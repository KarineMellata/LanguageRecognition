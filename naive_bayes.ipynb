{
 "cells": [
  {
   "cell_type": "code",
   "execution_count": 41,
   "metadata": {},
   "outputs": [],
   "source": [
    "try:\n",
    "    import unicodecsv\n",
    "except:\n",
    "    !pip install unicodecsv\n",
    "    import unicodecsv"
   ]
  },
  {
   "cell_type": "code",
   "execution_count": 42,
   "metadata": {},
   "outputs": [
    {
     "name": "stdout",
     "output_type": "stream",
     "text": [
      "Loaded data file train_set_x.csv with 276517 rows\n['18', 'Was f\\xc3\\xbcr eine Mail Was soll da drin stehen']\n"
     ]
    }
   ],
   "source": [
    "#This will load the csv\n",
    "import csv\n",
    "def loadCsv(filename):\n",
    "    info = open(filename, \"rb\")\n",
    "    has_header = csv.Sniffer().has_header(info.read(1024))\n",
    "    info.seek(0)\n",
    "    incsv = csv.reader(info)\n",
    "    if has_header:\n",
    "        next(incsv)  #Skip header\n",
    "    dataset = list(incsv)\n",
    "    return dataset\n",
    "filename = 'train_set_x.csv'\n",
    "dataset = loadCsv(filename)\n",
    "print('Loaded data file {0} with {1} rows').format(filename, len(dataset))\n",
    "print(dataset[18])"
   ]
  },
  {
   "cell_type": "code",
   "execution_count": 43,
   "metadata": {},
   "outputs": [
    {
     "name": "stdout",
     "output_type": "stream",
     "text": [
      "['18']\n"
     ]
    }
   ],
   "source": [
    "#get Id from list object\n",
    "def getId(line):\n",
    "    info = csv.reader(line, delimiter=',')\n",
    "    new_line = list(info)\n",
    "    return new_line[0]"
   ]
  },
  {
   "cell_type": "code",
   "execution_count": 44,
   "metadata": {},
   "outputs": [
    {
     "name": "stdout",
     "output_type": "stream",
     "text": [
      "['Was f\\xc3\\xbcr eine Mail Was soll da drin stehen']\n"
     ]
    }
   ],
   "source": [
    "#get Utterance from list object\n",
    "def getUtt(line):\n",
    "    info = csv.reader(line, delimiter=',')\n",
    "    new_line = list(info)\n",
    "    return new_line[1]"
   ]
  },
  {
   "cell_type": "code",
   "execution_count": null,
   "metadata": {},
   "outputs": [],
   "source": [
    ""
   ]
  }
 ],
 "metadata": {
  "kernelspec": {
   "display_name": "Python 2",
   "language": "python",
   "name": "python2"
  },
  "language_info": {
   "codemirror_mode": {
    "name": "ipython",
    "version": 2.0
   },
   "file_extension": ".py",
   "mimetype": "text/x-python",
   "name": "python",
   "nbconvert_exporter": "python",
   "pygments_lexer": "ipython2",
   "version": "2.7.6"
  }
 },
 "nbformat": 4,
 "nbformat_minor": 0
}