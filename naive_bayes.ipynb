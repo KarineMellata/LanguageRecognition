{
 "cells": [
  {
   "cell_type": "code",
   "execution_count": 2,
   "metadata": {},
   "outputs": [],
   "source": [
    "try:\n",
    "    import unicodecsv\n",
    "except:\n",
    "    !pip install unicodecsv\n",
    "    import unicodecsv"
   ]
  },
  {
   "cell_type": "code",
   "execution_count": 21,
   "metadata": {},
   "outputs": [
    {
     "ename": "NameError",
     "evalue": "name 'loadCsv' is not defined",
     "traceback": [
      "\u001b[0;31m---------------------------------------------------------------------------\u001b[0m",
      "\u001b[0;31mNameError\u001b[0m                                 Traceback (most recent call last)",
      "\u001b[0;32m<ipython-input-21-3729e97e6f6b>\u001b[0m in \u001b[0;36m<module>\u001b[0;34m()\u001b[0m\n\u001b[1;32m     11\u001b[0m     \u001b[0;32mreturn\u001b[0m \u001b[0mdataset\u001b[0m\u001b[0;34m\u001b[0m\u001b[0m\n\u001b[1;32m     12\u001b[0m \u001b[0mfilename\u001b[0m \u001b[0;34m=\u001b[0m \u001b[0;34m'train_set_x.csv'\u001b[0m\u001b[0;34m\u001b[0m\u001b[0m\n\u001b[0;32m---> 13\u001b[0;31m \u001b[0mdataset\u001b[0m \u001b[0;34m=\u001b[0m \u001b[0mloadCsv\u001b[0m\u001b[0;34m(\u001b[0m\u001b[0mfilename\u001b[0m\u001b[0;34m)\u001b[0m\u001b[0;34m\u001b[0m\u001b[0m\n\u001b[0m\u001b[1;32m     14\u001b[0m \u001b[0;32mprint\u001b[0m\u001b[0;34m(\u001b[0m\u001b[0;34m'Loaded data file {0} with {1} rows'\u001b[0m\u001b[0;34m)\u001b[0m\u001b[0;34m.\u001b[0m\u001b[0mformat\u001b[0m\u001b[0;34m(\u001b[0m\u001b[0mfilename\u001b[0m\u001b[0;34m,\u001b[0m \u001b[0mlen\u001b[0m\u001b[0;34m(\u001b[0m\u001b[0mdataset\u001b[0m\u001b[0;34m)\u001b[0m\u001b[0;34m)\u001b[0m\u001b[0;34m\u001b[0m\u001b[0m\n\u001b[1;32m     15\u001b[0m \u001b[0;31m#print(dataset[18])\u001b[0m\u001b[0;34m\u001b[0m\u001b[0;34m\u001b[0m\u001b[0m\n",
      "\u001b[0;31mNameError\u001b[0m: name 'loadCsv' is not defined"
     ],
     "output_type": "error"
    }
   ],
   "source": [
    "#This will load the csv\n",
    "import csv\n",
    "def loadDatasetCsv(filename):\n",
    "    info = open(filename, \"rb\")\n",
    "    has_header = csv.Sniffer().has_header(info.read(1024))\n",
    "    info.seek(0)\n",
    "    incsv = csv.reader(info)\n",
    "    if has_header:\n",
    "        next(incsv)  #Skip header\n",
    "    dataset = list(incsv)\n",
    "    return dataset\n",
    "filename = 'train_set_x.csv'\n",
    "dataset = loadCsv(filename)\n",
    "print('Loaded data file {0} with {1} rows').format(filename, len(dataset))\n",
    "#print(dataset[18])"
   ]
  },
  {
   "cell_type": "code",
   "execution_count": 24,
   "metadata": {},
   "outputs": [
    {
     "name": "stdout",
     "output_type": "stream",
     "text": [
      "Loaded data file train_set_y.csv with 276517 rows\n['18', '3']\n"
     ]
    }
   ],
   "source": [
    "#This will load the csv\n",
    "import csv\n",
    "def loadClassCsv(filename):\n",
    "    info = open(filename, \"rb\")\n",
    "    has_header = csv.Sniffer().has_header(info.read(1024))\n",
    "    info.seek(0)\n",
    "    incsv = csv.reader(info)\n",
    "    if has_header:\n",
    "        next(incsv)  #Skip header\n",
    "    dataset = list(incsv)\n",
    "    return dataset\n",
    "filename = 'train_set_y.csv'\n",
    "classds = loadClassCsv(filename)\n",
    "print('Loaded data file {0} with {1} rows').format(filename, len(classds))\n",
    "print(classds[18])"
   ]
  },
  {
   "cell_type": "code",
   "execution_count": 25,
   "metadata": {},
   "outputs": [],
   "source": [
    "#get Id from list object\n",
    "def getId(line):\n",
    "    info = csv.reader(line, delimiter=',')\n",
    "    new_line = list(info)\n",
    "    return new_line[0]"
   ]
  },
  {
   "cell_type": "code",
   "execution_count": 26,
   "metadata": {},
   "outputs": [],
   "source": [
    "#get Utterance from list object\n",
    "def getUtt(line):\n",
    "    info = csv.reader(line, delimiter=',')\n",
    "    new_line = list(info)\n",
    "    return new_line[1]\n",
    "#print(getUtt(dataset[1]))"
   ]
  },
  {
   "cell_type": "code",
   "execution_count": 27,
   "metadata": {},
   "outputs": [],
   "source": [
    "def getClass(line):\n",
    "    info = csv.reader(line, delimiter=',')\n",
    "    new_line = list(info)\n",
    "    new_line_item = ' '.join(new_line[1])\n",
    "    return new_line_item"
   ]
  },
  {
   "cell_type": "code",
   "execution_count": 28,
   "metadata": {},
   "outputs": [],
   "source": [
    "#Separate by class\n",
    "#Assuming last index has the class nb\n",
    "def separateByClass(dataset):\n",
    "    separated = {}\n",
    "    for i in range(len(dataset)):\n",
    "        vector = dataset[i]\n",
    "        if (vector[-1] not in separated):\n",
    "            separated[vector[-1]] = []\n",
    "        separated[vector[-1]].append(vector)\n",
    "    return separated\n",
    "\n",
    "#separated = separateByClass(dataset)\n",
    "#print(separated)"
   ]
  },
  {
   "cell_type": "code",
   "execution_count": 29,
   "metadata": {},
   "outputs": [],
   "source": [
    "def createBigrams(text):\n",
    "    bigrams = [b for l in text for b in zip(l.split(\" \")[:-1], l.split(\" \")[1:])]\n",
    "    return bigrams\n",
    "\n",
    "#print(createBigrams(getUtt(dataset[1])))"
   ]
  },
  {
   "cell_type": "code",
   "execution_count": 46,
   "metadata": {},
   "outputs": [
    {
     "name": "stdout",
     "output_type": "stream",
     "text": [
      "0.0509154952498\n"
     ]
    }
   ],
   "source": [
    "def calculatePrior(classDataset, language):\n",
    "    sum = len(classDataset)\n",
    "    occurence = 0\n",
    "    for i in range(sum):\n",
    "        if(getClass(classDataset[i]) == language):\n",
    "            occurence = occurence + 1\n",
    "    prior = occurence/float(sum)\n",
    "    return prior\n",
    "nb = calculatePrior(classds, '4')\n",
    "print(nb)"
   ]
  },
  {
   "cell_type": "code",
   "execution_count": null,
   "metadata": {},
   "outputs": [],
   "source": [
    ""
   ]
  },
  {
   "cell_type": "code",
   "execution_count": null,
   "metadata": {},
   "outputs": [],
   "source": [
    ""
   ]
  }
 ],
 "metadata": {
  "kernelspec": {
   "display_name": "Python 2",
   "language": "python",
   "name": "python2"
  },
  "language_info": {
   "codemirror_mode": {
    "name": "ipython",
    "version": 2.0
   },
   "file_extension": ".py",
   "mimetype": "text/x-python",
   "name": "python",
   "nbconvert_exporter": "python",
   "pygments_lexer": "ipython2",
   "version": "2.7.6"
  }
 },
 "nbformat": 4,
 "nbformat_minor": 0
}